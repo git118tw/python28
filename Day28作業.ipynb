{
 "cells": [
  {
   "cell_type": "markdown",
   "metadata": {},
   "source": [
    "## 作業:\n",
    "今天學到五種分配，包含，   \n",
    "離散均勻分配( Discrete Uniform Distribution )   \n",
    "伯努利分配( Bernoulli Distribution )   \n",
    "二項分配(Binomial Distribution)  \n",
    "負二項分配(Negative Binomial Distribution)  \n",
    "超幾何分配(Hypergeometric Distribution)   \n",
    "今天我們透過作業中的問題，回想今天的內容吧!  "
   ]
  },
  {
   "cell_type": "markdown",
   "metadata": {},
   "source": [
    "### Q1: 大樂透的頭獎，你必須從49個挑選出 6 個號碼，\n",
    "### 且這六個號碼與頭獎的六個號碼一致，頭獎的機率是屬於哪一種分配?"
   ]
  },
  {
   "cell_type": "code",
   "execution_count": 9,
   "metadata": {},
   "outputs": [
    {
     "name": "stdout",
     "output_type": "stream",
     "text": [
      "超幾何\n"
     ]
    }
   ],
   "source": [
    "#你的答案\n",
    "print('超幾何')"
   ]
  },
  {
   "cell_type": "markdown",
   "metadata": {},
   "source": [
    "### Q2: 運用範例的 python 程式碼，計算大樂透的中頭獎機率?"
   ]
  },
  {
   "cell_type": "code",
   "execution_count": 8,
   "metadata": {},
   "outputs": [
    {
     "data": {
      "text/plain": [
       "7.151123842018523e-08"
      ]
     },
     "execution_count": 8,
     "metadata": {},
     "output_type": "execute_result"
    }
   ],
   "source": [
    "\n",
    "#你的程式碼\n",
    "#記得要 import 套件\n",
    "from scipy.stats import hypergeom\n",
    "import matplotlib.pyplot as plt\n",
    "a=hypergeom(49, 6, 6)\n",
    "假的=a.pmf(6)\n",
    "假的"
   ]
  },
  {
   "cell_type": "markdown",
   "metadata": {},
   "source": [
    "### Q3: 你覺得電腦簽注的中獎機率，和人腦簽注相比，哪一個機率高?"
   ]
  },
  {
   "cell_type": "code",
   "execution_count": 10,
   "metadata": {},
   "outputs": [
    {
     "name": "stdout",
     "output_type": "stream",
     "text": [
      "在禁止投注到開獎這段時間選號最高\n"
     ]
    }
   ],
   "source": [
    "\n",
    "#你的答案\n",
    "print('在禁止投注到開獎這段時間選號最高')"
   ]
  },
  {
   "cell_type": "code",
   "execution_count": null,
   "metadata": {},
   "outputs": [],
   "source": []
  }
 ],
 "metadata": {
  "colab": {
   "name": "Day33.YOLO 細節理解 - 網路輸出的後處理_HW.ipynb",
   "provenance": []
  },
  "kernelspec": {
   "display_name": "Python 3",
   "language": "python",
   "name": "python3"
  },
  "language_info": {
   "codemirror_mode": {
    "name": "ipython",
    "version": 3
   },
   "file_extension": ".py",
   "mimetype": "text/x-python",
   "name": "python",
   "nbconvert_exporter": "python",
   "pygments_lexer": "ipython3",
   "version": "3.8.5"
  }
 },
 "nbformat": 4,
 "nbformat_minor": 1
}
